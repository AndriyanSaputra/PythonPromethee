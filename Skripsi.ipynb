{
 "cells": [
  {
   "cell_type": "code",
   "execution_count": 3,
   "metadata": {},
   "outputs": [],
   "source": [
    "import pandas as pd\n",
    "import numpy as np\n",
    "import math"
   ]
  },
  {
   "cell_type": "code",
   "execution_count": 4,
   "metadata": {},
   "outputs": [],
   "source": [
    "data = pd.read_csv('DATA.csv')\n",
    "df = pd.DataFrame(data,columns=['F1','F2','F3','F4','F5'])\n"
   ]
  },
  {
   "cell_type": "code",
   "execution_count": 5,
   "metadata": {},
   "outputs": [
    {
     "data": {
      "text/html": [
       "<div>\n",
       "<style scoped>\n",
       "    .dataframe tbody tr th:only-of-type {\n",
       "        vertical-align: middle;\n",
       "    }\n",
       "\n",
       "    .dataframe tbody tr th {\n",
       "        vertical-align: top;\n",
       "    }\n",
       "\n",
       "    .dataframe thead th {\n",
       "        text-align: right;\n",
       "    }\n",
       "</style>\n",
       "<table border=\"1\" class=\"dataframe\">\n",
       "  <thead>\n",
       "    <tr style=\"text-align: right;\">\n",
       "      <th></th>\n",
       "      <th>F1</th>\n",
       "      <th>F2</th>\n",
       "      <th>F3</th>\n",
       "      <th>F4</th>\n",
       "      <th>F5</th>\n",
       "    </tr>\n",
       "  </thead>\n",
       "  <tbody>\n",
       "    <tr>\n",
       "      <th>0</th>\n",
       "      <td>3</td>\n",
       "      <td>2</td>\n",
       "      <td>1</td>\n",
       "      <td>2</td>\n",
       "      <td>3</td>\n",
       "    </tr>\n",
       "    <tr>\n",
       "      <th>1</th>\n",
       "      <td>2</td>\n",
       "      <td>3</td>\n",
       "      <td>3</td>\n",
       "      <td>1</td>\n",
       "      <td>1</td>\n",
       "    </tr>\n",
       "    <tr>\n",
       "      <th>2</th>\n",
       "      <td>1</td>\n",
       "      <td>2</td>\n",
       "      <td>3</td>\n",
       "      <td>2</td>\n",
       "      <td>3</td>\n",
       "    </tr>\n",
       "    <tr>\n",
       "      <th>3</th>\n",
       "      <td>3</td>\n",
       "      <td>1</td>\n",
       "      <td>2</td>\n",
       "      <td>1</td>\n",
       "      <td>3</td>\n",
       "    </tr>\n",
       "  </tbody>\n",
       "</table>\n",
       "</div>"
      ],
      "text/plain": [
       "   F1  F2  F3  F4  F5\n",
       "0   3   2   1   2   3\n",
       "1   2   3   3   1   1\n",
       "2   1   2   3   2   3\n",
       "3   3   1   2   1   3"
      ]
     },
     "execution_count": 5,
     "metadata": {},
     "output_type": "execute_result"
    }
   ],
   "source": [
    "df"
   ]
  },
  {
   "cell_type": "code",
   "execution_count": 10,
   "metadata": {},
   "outputs": [],
   "source": [
    "p1 = len(df)\n",
    "p2 = len(df)\n",
    "p3 = len(df.loc[0])\n",
    "arr = []\n",
    "hasil = []\n",
    "for i in range(p1):\n",
    "    arr1 = []\n",
    "    hasil1 = []\n",
    "    for j in range(p2):\n",
    "        arr2 = []\n",
    "        hasil2= []\n",
    "        for k in range(p3):\n",
    "            m = 0\n",
    "            z = 0 \n",
    "            l = j + 1\n",
    "            if(j < p1 - 1):\n",
    "                m = df.loc[i][k] - df.loc[l][k]\n",
    "                if (m <= 0):\n",
    "                    z = 0\n",
    "                else:\n",
    "                    z = 1\n",
    "            else:\n",
    "                m = df.loc[i][k] - df.loc[0][k]\n",
    "                if (m <= 0):\n",
    "                    z = 0\n",
    "                else:\n",
    "                    z = 1\n",
    "            hasil2.append(z)\n",
    "            arr2.append(m)\n",
    "        arr1.append(arr2)\n",
    "        hasil1.append(hasil2)\n",
    "    arr.append(arr1)\n",
    "    hasil.append(hasil1)\n"
   ]
  },
  {
   "cell_type": "code",
   "execution_count": 11,
   "metadata": {},
   "outputs": [
    {
     "data": {
      "text/plain": [
       "[[[1, 0, 0, 1, 1], [1, 0, 0, 0, 0], [0, 1, 0, 1, 0], [0, 0, 0, 0, 0]],\n",
       " [[0, 0, 0, 0, 0], [1, 1, 0, 0, 0], [0, 1, 1, 0, 0], [0, 1, 1, 0, 0]],\n",
       " [[0, 0, 0, 1, 1], [0, 0, 0, 0, 0], [0, 1, 1, 1, 0], [0, 0, 1, 0, 0]],\n",
       " [[1, 0, 0, 0, 1], [1, 0, 0, 0, 0], [0, 0, 0, 0, 0], [0, 0, 1, 0, 0]]]"
      ]
     },
     "execution_count": 11,
     "metadata": {},
     "output_type": "execute_result"
    }
   ],
   "source": [
    "hasil"
   ]
  },
  {
   "cell_type": "code",
   "execution_count": 18,
   "metadata": {},
   "outputs": [
    {
     "name": "stdout",
     "output_type": "stream",
     "text": [
      "[[[1, 0, 0, 1, 1], [1, 0, 0, 0, 0], [0, 1, 0, 1, 0], [0, 0, 0, 0, 0]], [[0, 0, 0, 0, 0], [1, 1, 0, 0, 0], [0, 1, 1, 0, 0], [0, 1, 1, 0, 0]], [[0, 0, 0, 1, 1], [0, 0, 0, 0, 0], [0, 1, 1, 1, 0], [0, 0, 1, 0, 0]], [[1, 0, 0, 0, 1], [1, 0, 0, 0, 0], [0, 0, 0, 0, 0], [0, 0, 1, 0, 0]]]\n"
     ]
    }
   ],
   "source": [
    "print(hasil)"
   ]
  },
  {
   "cell_type": "code",
   "execution_count": 19,
   "metadata": {},
   "outputs": [
    {
     "name": "stdout",
     "output_type": "stream",
     "text": [
      "[[[1, -1, -2, 1, 2], [2, 0, -2, 0, 0], [0, 1, -1, 1, 0], [0, 0, 0, 0, 0]], [[0, 0, 0, 0, 0], [1, 1, 0, -1, -2], [-1, 2, 1, 0, -2], [-1, 1, 2, -1, -2]], [[-1, -1, 0, 1, 2], [0, 0, 0, 0, 0], [-2, 1, 1, 1, 0], [-2, 0, 2, 0, 0]], [[1, -2, -1, 0, 2], [2, -1, -1, -1, 0], [0, 0, 0, 0, 0], [0, -1, 1, -1, 0]]]\n"
     ]
    }
   ],
   "source": [
    "print(arr)"
   ]
  },
  {
   "cell_type": "code",
   "execution_count": 20,
   "metadata": {},
   "outputs": [
    {
     "data": {
      "text/html": [
       "<div>\n",
       "<style scoped>\n",
       "    .dataframe tbody tr th:only-of-type {\n",
       "        vertical-align: middle;\n",
       "    }\n",
       "\n",
       "    .dataframe tbody tr th {\n",
       "        vertical-align: top;\n",
       "    }\n",
       "\n",
       "    .dataframe thead th {\n",
       "        text-align: right;\n",
       "    }\n",
       "</style>\n",
       "<table border=\"1\" class=\"dataframe\">\n",
       "  <thead>\n",
       "    <tr style=\"text-align: right;\">\n",
       "      <th></th>\n",
       "      <th>0</th>\n",
       "      <th>1</th>\n",
       "      <th>2</th>\n",
       "      <th>3</th>\n",
       "    </tr>\n",
       "  </thead>\n",
       "  <tbody>\n",
       "    <tr>\n",
       "      <th>0</th>\n",
       "      <td>[1, 0, 0, 1, 1]</td>\n",
       "      <td>[1, 0, 0, 0, 0]</td>\n",
       "      <td>[0, 1, 0, 1, 0]</td>\n",
       "      <td>[0, 0, 0, 0, 0]</td>\n",
       "    </tr>\n",
       "    <tr>\n",
       "      <th>1</th>\n",
       "      <td>[0, 0, 0, 0, 0]</td>\n",
       "      <td>[1, 1, 0, 0, 0]</td>\n",
       "      <td>[0, 1, 1, 0, 0]</td>\n",
       "      <td>[0, 1, 1, 0, 0]</td>\n",
       "    </tr>\n",
       "    <tr>\n",
       "      <th>2</th>\n",
       "      <td>[0, 0, 0, 1, 1]</td>\n",
       "      <td>[0, 0, 0, 0, 0]</td>\n",
       "      <td>[0, 1, 1, 1, 0]</td>\n",
       "      <td>[0, 0, 1, 0, 0]</td>\n",
       "    </tr>\n",
       "    <tr>\n",
       "      <th>3</th>\n",
       "      <td>[1, 0, 0, 0, 1]</td>\n",
       "      <td>[1, 0, 0, 0, 0]</td>\n",
       "      <td>[0, 0, 0, 0, 0]</td>\n",
       "      <td>[0, 0, 1, 0, 0]</td>\n",
       "    </tr>\n",
       "  </tbody>\n",
       "</table>\n",
       "</div>"
      ],
      "text/plain": [
       "                 0                1                2                3\n",
       "0  [1, 0, 0, 1, 1]  [1, 0, 0, 0, 0]  [0, 1, 0, 1, 0]  [0, 0, 0, 0, 0]\n",
       "1  [0, 0, 0, 0, 0]  [1, 1, 0, 0, 0]  [0, 1, 1, 0, 0]  [0, 1, 1, 0, 0]\n",
       "2  [0, 0, 0, 1, 1]  [0, 0, 0, 0, 0]  [0, 1, 1, 1, 0]  [0, 0, 1, 0, 0]\n",
       "3  [1, 0, 0, 0, 1]  [1, 0, 0, 0, 0]  [0, 0, 0, 0, 0]  [0, 0, 1, 0, 0]"
      ]
     },
     "execution_count": 20,
     "metadata": {},
     "output_type": "execute_result"
    }
   ],
   "source": [
    "hasil1 = pd.DataFrame(arr)\n",
    "hasil2 = pd.DataFrame(hasil)\n",
    "hasil2"
   ]
  },
  {
   "cell_type": "code",
   "execution_count": 21,
   "metadata": {},
   "outputs": [
    {
     "data": {
      "text/html": [
       "<div>\n",
       "<style scoped>\n",
       "    .dataframe tbody tr th:only-of-type {\n",
       "        vertical-align: middle;\n",
       "    }\n",
       "\n",
       "    .dataframe tbody tr th {\n",
       "        vertical-align: top;\n",
       "    }\n",
       "\n",
       "    .dataframe thead th {\n",
       "        text-align: right;\n",
       "    }\n",
       "</style>\n",
       "<table border=\"1\" class=\"dataframe\">\n",
       "  <thead>\n",
       "    <tr style=\"text-align: right;\">\n",
       "      <th></th>\n",
       "      <th>0</th>\n",
       "      <th>1</th>\n",
       "      <th>2</th>\n",
       "      <th>3</th>\n",
       "    </tr>\n",
       "  </thead>\n",
       "  <tbody>\n",
       "    <tr>\n",
       "      <th>0</th>\n",
       "      <td>[1, -1, -2, 1, 2]</td>\n",
       "      <td>[2, 0, -2, 0, 0]</td>\n",
       "      <td>[0, 1, -1, 1, 0]</td>\n",
       "      <td>[0, 0, 0, 0, 0]</td>\n",
       "    </tr>\n",
       "    <tr>\n",
       "      <th>1</th>\n",
       "      <td>[0, 0, 0, 0, 0]</td>\n",
       "      <td>[1, 1, 0, -1, -2]</td>\n",
       "      <td>[-1, 2, 1, 0, -2]</td>\n",
       "      <td>[-1, 1, 2, -1, -2]</td>\n",
       "    </tr>\n",
       "    <tr>\n",
       "      <th>2</th>\n",
       "      <td>[-1, -1, 0, 1, 2]</td>\n",
       "      <td>[0, 0, 0, 0, 0]</td>\n",
       "      <td>[-2, 1, 1, 1, 0]</td>\n",
       "      <td>[-2, 0, 2, 0, 0]</td>\n",
       "    </tr>\n",
       "    <tr>\n",
       "      <th>3</th>\n",
       "      <td>[1, -2, -1, 0, 2]</td>\n",
       "      <td>[2, -1, -1, -1, 0]</td>\n",
       "      <td>[0, 0, 0, 0, 0]</td>\n",
       "      <td>[0, -1, 1, -1, 0]</td>\n",
       "    </tr>\n",
       "  </tbody>\n",
       "</table>\n",
       "</div>"
      ],
      "text/plain": [
       "                   0                   1                  2  \\\n",
       "0  [1, -1, -2, 1, 2]    [2, 0, -2, 0, 0]   [0, 1, -1, 1, 0]   \n",
       "1    [0, 0, 0, 0, 0]   [1, 1, 0, -1, -2]  [-1, 2, 1, 0, -2]   \n",
       "2  [-1, -1, 0, 1, 2]     [0, 0, 0, 0, 0]   [-2, 1, 1, 1, 0]   \n",
       "3  [1, -2, -1, 0, 2]  [2, -1, -1, -1, 0]    [0, 0, 0, 0, 0]   \n",
       "\n",
       "                    3  \n",
       "0     [0, 0, 0, 0, 0]  \n",
       "1  [-1, 1, 2, -1, -2]  \n",
       "2    [-2, 0, 2, 0, 0]  \n",
       "3   [0, -1, 1, -1, 0]  "
      ]
     },
     "execution_count": 21,
     "metadata": {},
     "output_type": "execute_result"
    }
   ],
   "source": [
    "hasil1"
   ]
  },
  {
   "cell_type": "code",
   "execution_count": 22,
   "metadata": {},
   "outputs": [
    {
     "data": {
      "text/plain": [
       "[[0.6, 0.2, 0.4, 0.0],\n",
       " [0.0, 0.4, 0.4, 0.4],\n",
       " [0.4, 0.0, 0.6, 0.2],\n",
       " [0.4, 0.2, 0.0, 0.2]]"
      ]
     },
     "execution_count": 22,
     "metadata": {},
     "output_type": "execute_result"
    }
   ],
   "source": [
    "akhir = []\n",
    "for i in range(len(hasil)):\n",
    "    akhir1 = []\n",
    "    for j in range(len(hasil[i])):\n",
    "        bla = sum(hasil[i][j])/len(hasil[i][j])\n",
    "        akhir1.append(bla)\n",
    "    akhir.append(akhir1)\n",
    "akhir"
   ]
  },
  {
   "cell_type": "code",
   "execution_count": null,
   "metadata": {},
   "outputs": [],
   "source": []
  },
  {
   "cell_type": "code",
   "execution_count": 23,
   "metadata": {},
   "outputs": [
    {
     "data": {
      "text/plain": [
       "[[0.6, 0.0, 0.4, 0.4],\n",
       " [0.2, 0.4, 0.0, 0.2],\n",
       " [0.4, 0.4, 0.6, 0.0],\n",
       " [0.0, 0.4, 0.2, 0.2]]"
      ]
     },
     "execution_count": 23,
     "metadata": {},
     "output_type": "execute_result"
    }
   ],
   "source": [
    "tmp = []\n",
    "for i in range(len(akhir)):\n",
    "    tmp1 = []\n",
    "    for j in range(len(akhir[i])):\n",
    "        tmp1.append(akhir[j][i])\n",
    "    tmp.append(tmp1)\n",
    "tmp"
   ]
  },
  {
   "cell_type": "code",
   "execution_count": 24,
   "metadata": {},
   "outputs": [],
   "source": [
    "def lflow():\n",
    "    lf=[]\n",
    "    for i in range(len(akhir)):\n",
    "        jwb = 1/(len(akhir) - 1) * sum(akhir[i])\n",
    "        lf.append(jwb)\n",
    "#     lff=pd.DataFrame(data=lf,columns=['leafing flow'])\n",
    "    return lf\n",
    "\n",
    "def efl():\n",
    "    ef = []\n",
    "    for i in range(len(tmp)):\n",
    "        jwb = 1/(len(tmp) - 1) * sum(tmp[i])\n",
    "        ef.append(jwb)\n",
    "    \n",
    "#     ent=pd.DataFrame(ef,columns=['Entr Flow'])\n",
    "    return ef\n",
    "\n",
    "def nef():\n",
    "    lf=lflow()\n",
    "    ef=efl()\n",
    "    nf = []    \n",
    "    for i in range(len(ef)):\n",
    "        j = i + 1\n",
    "        if (i < len(ef) - 1):\n",
    "            jwb = lf[i] - ef[i+1]\n",
    "        else:\n",
    "            jwb = lf[i] - ef[0]\n",
    "        nf.append(jwb)\n",
    "        nflow=pd.DataFrame(data=nf,columns=['net flow'])\n",
    "    return nflow\n",
    "entrflow= pd.DataFrame(data=efl(),columns=['Entry Flow'])    \n",
    "leafingflow= pd.DataFrame(data=lflow(),columns=['leafing flow'])"
   ]
  },
  {
   "cell_type": "code",
   "execution_count": null,
   "metadata": {},
   "outputs": [],
   "source": []
  },
  {
   "cell_type": "code",
   "execution_count": 25,
   "metadata": {},
   "outputs": [
    {
     "data": {
      "text/html": [
       "<div>\n",
       "<style scoped>\n",
       "    .dataframe tbody tr th:only-of-type {\n",
       "        vertical-align: middle;\n",
       "    }\n",
       "\n",
       "    .dataframe tbody tr th {\n",
       "        vertical-align: top;\n",
       "    }\n",
       "\n",
       "    .dataframe thead th {\n",
       "        text-align: right;\n",
       "    }\n",
       "</style>\n",
       "<table border=\"1\" class=\"dataframe\">\n",
       "  <thead>\n",
       "    <tr style=\"text-align: right;\">\n",
       "      <th></th>\n",
       "      <th>Entry Flow</th>\n",
       "      <th>leafing flow</th>\n",
       "      <th>net flow</th>\n",
       "    </tr>\n",
       "  </thead>\n",
       "  <tbody>\n",
       "    <tr>\n",
       "      <th>0</th>\n",
       "      <td>0.466667</td>\n",
       "      <td>0.400000</td>\n",
       "      <td>0.133333</td>\n",
       "    </tr>\n",
       "    <tr>\n",
       "      <th>1</th>\n",
       "      <td>0.266667</td>\n",
       "      <td>0.400000</td>\n",
       "      <td>-0.066667</td>\n",
       "    </tr>\n",
       "    <tr>\n",
       "      <th>2</th>\n",
       "      <td>0.466667</td>\n",
       "      <td>0.400000</td>\n",
       "      <td>0.133333</td>\n",
       "    </tr>\n",
       "    <tr>\n",
       "      <th>3</th>\n",
       "      <td>0.266667</td>\n",
       "      <td>0.266667</td>\n",
       "      <td>-0.200000</td>\n",
       "    </tr>\n",
       "  </tbody>\n",
       "</table>\n",
       "</div>"
      ],
      "text/plain": [
       "   Entry Flow  leafing flow  net flow\n",
       "0    0.466667      0.400000  0.133333\n",
       "1    0.266667      0.400000 -0.066667\n",
       "2    0.466667      0.400000  0.133333\n",
       "3    0.266667      0.266667 -0.200000"
      ]
     },
     "execution_count": 25,
     "metadata": {},
     "output_type": "execute_result"
    }
   ],
   "source": [
    "rangking=pd.concat([entrflow,leafingflow,nef()],axis=1)\n",
    "rangking"
   ]
  },
  {
   "cell_type": "code",
   "execution_count": null,
   "metadata": {},
   "outputs": [],
   "source": []
  },
  {
   "cell_type": "code",
   "execution_count": null,
   "metadata": {},
   "outputs": [],
   "source": []
  },
  {
   "cell_type": "code",
   "execution_count": null,
   "metadata": {},
   "outputs": [],
   "source": []
  },
  {
   "cell_type": "code",
   "execution_count": null,
   "metadata": {},
   "outputs": [],
   "source": []
  },
  {
   "cell_type": "code",
   "execution_count": null,
   "metadata": {},
   "outputs": [],
   "source": []
  },
  {
   "cell_type": "code",
   "execution_count": null,
   "metadata": {},
   "outputs": [],
   "source": []
  },
  {
   "cell_type": "code",
   "execution_count": null,
   "metadata": {},
   "outputs": [],
   "source": []
  },
  {
   "cell_type": "code",
   "execution_count": null,
   "metadata": {},
   "outputs": [],
   "source": []
  },
  {
   "cell_type": "code",
   "execution_count": null,
   "metadata": {},
   "outputs": [],
   "source": []
  },
  {
   "cell_type": "code",
   "execution_count": null,
   "metadata": {},
   "outputs": [],
   "source": []
  },
  {
   "cell_type": "code",
   "execution_count": null,
   "metadata": {},
   "outputs": [],
   "source": []
  },
  {
   "cell_type": "code",
   "execution_count": null,
   "metadata": {},
   "outputs": [],
   "source": []
  },
  {
   "cell_type": "code",
   "execution_count": null,
   "metadata": {},
   "outputs": [],
   "source": []
  },
  {
   "cell_type": "code",
   "execution_count": null,
   "metadata": {},
   "outputs": [],
   "source": []
  },
  {
   "cell_type": "code",
   "execution_count": null,
   "metadata": {},
   "outputs": [],
   "source": []
  }
 ],
 "metadata": {
  "kernelspec": {
   "display_name": "Python 3",
   "language": "python",
   "name": "python3"
  },
  "language_info": {
   "codemirror_mode": {
    "name": "ipython",
    "version": 3
   },
   "file_extension": ".py",
   "mimetype": "text/x-python",
   "name": "python",
   "nbconvert_exporter": "python",
   "pygments_lexer": "ipython3",
   "version": "3.7.0"
  }
 },
 "nbformat": 4,
 "nbformat_minor": 2
}
