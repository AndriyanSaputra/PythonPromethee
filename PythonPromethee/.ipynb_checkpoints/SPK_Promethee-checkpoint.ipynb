{
 "cells": [
  {
   "cell_type": "code",
   "execution_count": 170,
   "metadata": {},
   "outputs": [],
   "source": [
    "import os,django\n",
    "import pandas as pd\n",
    "from orm.models import Pekerja,Pko, Disiplin, Kesehatan, Petadua, Psikotes\n",
    "import math"
   ]
  },
  {
   "cell_type": "code",
   "execution_count": 171,
   "metadata": {},
   "outputs": [],
   "source": [
    "# Memanggil seluruh data ORM\n",
    "pj = Pekerja.objects.all()\n",
    "# pk = Pko.objects.all()\n",
    "# dp = Disiplin.objects.all()\n",
    "# ks = Kesehatan.objects.all()\n",
    "# pt2 = Petadua.objects.all()\n",
    "# psk = Psikotes.objects.all()"
   ]
  },
  {
   "cell_type": "code",
   "execution_count": 204,
   "metadata": {},
   "outputs": [],
   "source": [
    "def ListNilaiPko(pj):\n",
    "    if len(pj)>0:\n",
    "        cols = ['nilai']\n",
    "        \n",
    "        kel ={\n",
    "            \n",
    "            cols[0] : [int(a.Pkos.nilai) for a in pj],\n",
    "        }\n",
    "        df = pd.DataFrame(data=kel)\n",
    "        return df\n",
    "    else:\n",
    "        return[]\n",
    "def ListNilaiDisiplin(pj):\n",
    "    if len(pj)>0:\n",
    "        cols = ['nilai']\n",
    "        \n",
    "        kel ={\n",
    "            \n",
    "            cols[0] : [int(a.Disiplins.nilai) for a in pj],\n",
    "        }\n",
    "        df = pd.DataFrame(data=kel)\n",
    "        return df\n",
    "    else:\n",
    "        return[]\n",
    "def ListNilaiKesehatan(pj):\n",
    "    if len(pj)>0:\n",
    "        cols = ['nilai']\n",
    "        \n",
    "        kel ={\n",
    "            \n",
    "            cols[0] : [int(a.Kesehatans.nilai) for a in pj],\n",
    "        }\n",
    "        df = pd.DataFrame(data=kel)\n",
    "        return df\n",
    "    else:\n",
    "        return[]\n",
    "def ListNilaiPsikotes(pj):\n",
    "    if len(pj)>0:\n",
    "        cols = ['nilai']\n",
    "        \n",
    "        kel ={\n",
    "            \n",
    "            cols[0] : [int(a.Psikotess.nilai) for a in pj],\n",
    "        }\n",
    "        df = pd.DataFrame(data=kel)\n",
    "        return df\n",
    "    else:\n",
    "        return[]\n",
    "def ListNilaiPetadua(pj):\n",
    "    if len(pj)>0:\n",
    "        cols = ['nilai']\n",
    "        \n",
    "        kel ={\n",
    "            \n",
    "            cols[0] : [int(a.Petaduas.nilai) for a in pj],\n",
    "        }\n",
    "        df = pd.DataFrame(data=kel)\n",
    "        return df\n",
    "    else:\n",
    "        return[]\n",
    "\n",
    "df = pd.concat([ListNilaiPko(pj),ListNilaiDisiplin(pj),ListNilaiKesehatan(pj),ListNilaiPsikotes(pj),ListNilaiPetadua(pj)], axis=1)\n",
    "df.columns=['Pko','Disiplin','Kesehatan','Psikotes','pt2']\n"
   ]
  },
  {
   "cell_type": "code",
   "execution_count": null,
   "metadata": {},
   "outputs": [],
   "source": []
  },
  {
   "cell_type": "code",
   "execution_count": 205,
   "metadata": {},
   "outputs": [],
   "source": [
    "def prefhasil():\n",
    "    p1 = len(df)\n",
    "    p2 = len(df)\n",
    "    p3 = len(df.loc[0])\n",
    "    arr = []\n",
    "    hasil = []\n",
    "    for i in range(p1):\n",
    "        arr1 = []\n",
    "        hasil1 = []\n",
    "        for j in range(p2):\n",
    "            arr2 = []\n",
    "            hasil2= []\n",
    "            for k in range(p3):\n",
    "                z = df.loc[i][k]-df.loc[j][k]\n",
    "                m = 0\n",
    "                if (z <= 0):\n",
    "                    m = 0\n",
    "                else:\n",
    "                    m = 1\n",
    "                hasil2.append(z)\n",
    "                arr2.append(m)\n",
    "            arr1.append(arr2)\n",
    "            hasil1.append(hasil2)\n",
    "        arr.append(arr1)\n",
    "        hasil.append(hasil1)\n",
    "        return hasil\n",
    "    \n",
    "def prefarr():\n",
    "    p1 = len(df)\n",
    "    p2 = len(df)\n",
    "    p3 = len(df.loc[0])\n",
    "    arr = []\n",
    "    hasil = []\n",
    "    for i in range(p1):\n",
    "        arr1 = []\n",
    "        hasil1 = []\n",
    "        for j in range(p2):\n",
    "            arr2 = []\n",
    "            hasil2= []\n",
    "            for k in range(p3):\n",
    "                z = df.loc[i][k]-df.loc[j][k]\n",
    "                m = 0\n",
    "                if (z <= 0):\n",
    "                    m = 0\n",
    "                else:\n",
    "                    m = 1\n",
    "                hasil2.append(z)\n",
    "                arr2.append(m)\n",
    "            arr1.append(arr2)\n",
    "            hasil1.append(hasil2)\n",
    "        arr.append(arr1)\n",
    "        hasil.append(hasil1)\n",
    "        return arr\n"
   ]
  },
  {
   "cell_type": "code",
   "execution_count": 206,
   "metadata": {},
   "outputs": [],
   "source": [
    "hasil1 = pd.DataFrame(arr)\n",
    "hasil2 = pd.DataFrame(hasil)"
   ]
  },
  {
   "cell_type": "code",
   "execution_count": 209,
   "metadata": {},
   "outputs": [
    {
     "data": {
      "text/plain": [
       "[[[0, 0, 0, 0, 0], [1, 0, 0, 1, 1]]]"
      ]
     },
     "execution_count": 209,
     "metadata": {},
     "output_type": "execute_result"
    }
   ],
   "source": [
    "prefarr()"
   ]
  },
  {
   "cell_type": "code",
   "execution_count": null,
   "metadata": {},
   "outputs": [],
   "source": []
  },
  {
   "cell_type": "code",
   "execution_count": 188,
   "metadata": {},
   "outputs": [
    {
     "data": {
      "text/html": [
       "<div>\n",
       "<style scoped>\n",
       "    .dataframe tbody tr th:only-of-type {\n",
       "        vertical-align: middle;\n",
       "    }\n",
       "\n",
       "    .dataframe tbody tr th {\n",
       "        vertical-align: top;\n",
       "    }\n",
       "\n",
       "    .dataframe thead th {\n",
       "        text-align: right;\n",
       "    }\n",
       "</style>\n",
       "<table border=\"1\" class=\"dataframe\">\n",
       "  <thead>\n",
       "    <tr style=\"text-align: right;\">\n",
       "      <th></th>\n",
       "      <th>0</th>\n",
       "      <th>1</th>\n",
       "    </tr>\n",
       "  </thead>\n",
       "  <tbody>\n",
       "    <tr>\n",
       "      <th>0</th>\n",
       "      <td>[0, 0, 0, 0, 0]</td>\n",
       "      <td>[1, -1, -2, 2, 1]</td>\n",
       "    </tr>\n",
       "    <tr>\n",
       "      <th>1</th>\n",
       "      <td>[-1, 1, 2, -2, -1]</td>\n",
       "      <td>[0, 0, 0, 0, 0]</td>\n",
       "    </tr>\n",
       "  </tbody>\n",
       "</table>\n",
       "</div>"
      ],
      "text/plain": [
       "                    0                  1\n",
       "0     [0, 0, 0, 0, 0]  [1, -1, -2, 2, 1]\n",
       "1  [-1, 1, 2, -2, -1]    [0, 0, 0, 0, 0]"
      ]
     },
     "execution_count": 188,
     "metadata": {},
     "output_type": "execute_result"
    }
   ],
   "source": [
    "hasil2"
   ]
  },
  {
   "cell_type": "code",
   "execution_count": 211,
   "metadata": {},
   "outputs": [
    {
     "data": {
      "text/plain": [
       "[[0.0, 0.6], [0.4, 0.0]]"
      ]
     },
     "execution_count": 211,
     "metadata": {},
     "output_type": "execute_result"
    }
   ],
   "source": [
    "\n",
    "akhir = []\n",
    "for i in range(len(hasil)):\n",
    "    akhir1 = []\n",
    "    for j in range(len(arr[i])):\n",
    "        bla = sum(arr[i][j])/len(arr[i][j])\n",
    "        akhir1.append(bla)\n",
    "    akhir.append(akhir1)\n"
   ]
  },
  {
   "cell_type": "code",
   "execution_count": 219,
   "metadata": {},
   "outputs": [],
   "source": [
    "def indexpref():\n",
    "    tmp = []\n",
    "    for i in range(len(akhir)):\n",
    "        tmp1 = []\n",
    "        for j in range(len(akhir[i])):\n",
    "            tmp1.append(akhir[j][i])\n",
    "        tmp.append(tmp1)\n",
    "    return tmp"
   ]
  },
  {
   "cell_type": "code",
   "execution_count": 192,
   "metadata": {},
   "outputs": [],
   "source": [
    "def lflow():\n",
    "    lf=[]\n",
    "    for i in range(len(akhir)):\n",
    "        jwb = 1/(len(akhir) - 1) * sum(akhir[i])\n",
    "        lf.append(jwb)\n",
    "#     lff=pd.DataFrame(data=lf,columns=['leafing flow'])\n",
    "    return lf\n",
    "\n",
    "def efl():\n",
    "    ef = []\n",
    "    for i in range(len(tmp)):\n",
    "        jwb = 1/(len(tmp) - 1) * sum(tmp[i])\n",
    "        ef.append(jwb)\n",
    "    \n",
    "    \n",
    "#     ent=pd.DataFrame(ef,columns=['Entr Flow'])\n",
    "    return ef\n",
    "\n",
    "def nef():\n",
    "    lf=lflow()\n",
    "    ef=efl()\n",
    "    nf = []    \n",
    "    for i in range(len(ef)):\n",
    "        jwb = lf[i]-ef[i]\n",
    "        nf.append(jwb)\n",
    "#         j = i + 1\n",
    "#         if (i < len(ef) - 1):\n",
    "#             jwb = lf[i] - ef[i+1]\n",
    "#         else:\n",
    "#             jwb = lf[i] - ef[0]\n",
    "#         nf.append(jwb)\n",
    "        nflow=pd.DataFrame(data=nf,columns=['net flow'])\n",
    "    return nflow\n",
    "entrflow= pd.DataFrame(data=efl(),columns=['Entry Flow'])    \n",
    "leavingflow= pd.DataFrame(data=lflow(),columns=['leaving flow'])"
   ]
  },
  {
   "cell_type": "code",
   "execution_count": 193,
   "metadata": {},
   "outputs": [
    {
     "data": {
      "text/html": [
       "<div>\n",
       "<style scoped>\n",
       "    .dataframe tbody tr th:only-of-type {\n",
       "        vertical-align: middle;\n",
       "    }\n",
       "\n",
       "    .dataframe tbody tr th {\n",
       "        vertical-align: top;\n",
       "    }\n",
       "\n",
       "    .dataframe thead th {\n",
       "        text-align: right;\n",
       "    }\n",
       "</style>\n",
       "<table border=\"1\" class=\"dataframe\">\n",
       "  <thead>\n",
       "    <tr style=\"text-align: right;\">\n",
       "      <th></th>\n",
       "      <th>net flow</th>\n",
       "    </tr>\n",
       "  </thead>\n",
       "  <tbody>\n",
       "    <tr>\n",
       "      <th>0</th>\n",
       "      <td>0.2</td>\n",
       "    </tr>\n",
       "    <tr>\n",
       "      <th>1</th>\n",
       "      <td>-0.2</td>\n",
       "    </tr>\n",
       "  </tbody>\n",
       "</table>\n",
       "</div>"
      ],
      "text/plain": [
       "   net flow\n",
       "0       0.2\n",
       "1      -0.2"
      ]
     },
     "execution_count": 193,
     "metadata": {},
     "output_type": "execute_result"
    }
   ],
   "source": [
    "nef()"
   ]
  },
  {
   "cell_type": "code",
   "execution_count": 194,
   "metadata": {},
   "outputs": [
    {
     "data": {
      "text/html": [
       "<div>\n",
       "<style scoped>\n",
       "    .dataframe tbody tr th:only-of-type {\n",
       "        vertical-align: middle;\n",
       "    }\n",
       "\n",
       "    .dataframe tbody tr th {\n",
       "        vertical-align: top;\n",
       "    }\n",
       "\n",
       "    .dataframe thead th {\n",
       "        text-align: right;\n",
       "    }\n",
       "</style>\n",
       "<table border=\"1\" class=\"dataframe\">\n",
       "  <thead>\n",
       "    <tr style=\"text-align: right;\">\n",
       "      <th></th>\n",
       "      <th>Entry Flow</th>\n",
       "      <th>leaving flow</th>\n",
       "      <th>net flow</th>\n",
       "    </tr>\n",
       "  </thead>\n",
       "  <tbody>\n",
       "    <tr>\n",
       "      <th>0</th>\n",
       "      <td>0.4</td>\n",
       "      <td>0.6</td>\n",
       "      <td>0.2</td>\n",
       "    </tr>\n",
       "    <tr>\n",
       "      <th>1</th>\n",
       "      <td>0.6</td>\n",
       "      <td>0.4</td>\n",
       "      <td>-0.2</td>\n",
       "    </tr>\n",
       "  </tbody>\n",
       "</table>\n",
       "</div>"
      ],
      "text/plain": [
       "   Entry Flow  leaving flow  net flow\n",
       "0         0.4           0.6       0.2\n",
       "1         0.6           0.4      -0.2"
      ]
     },
     "execution_count": 194,
     "metadata": {},
     "output_type": "execute_result"
    }
   ],
   "source": [
    "rangking=pd.concat([entrflow,leavingflow,nef()],axis=1)\n",
    "rangking"
   ]
  },
  {
   "cell_type": "code",
   "execution_count": 195,
   "metadata": {},
   "outputs": [
    {
     "data": {
      "text/plain": [
       "[[[0, 0, 0, 0, 0], [1, 0, 0, 1, 1]], [[0, 1, 1, 0, 0], [0, 0, 0, 0, 0]]]"
      ]
     },
     "execution_count": 195,
     "metadata": {},
     "output_type": "execute_result"
    }
   ],
   "source": [
    "arr"
   ]
  },
  {
   "cell_type": "code",
   "execution_count": 196,
   "metadata": {},
   "outputs": [],
   "source": [
    "# Nilai Preferensi F1 (PKO) \n",
    "kriteria1 = []\n",
    "for i in range(len(arr)):\n",
    "    kriteria11 = []\n",
    "    for j in range(len(arr[i])):\n",
    "        kriteria11.append(arr[i][j][0])\n",
    "    kriteria1.append(kriteria11)\n",
    "    \n",
    "# Nilai Preferensi F2 (Disiplin)\n",
    "kriteria2 = []\n",
    "for i in range(len(arr)):\n",
    "    kriteria22 = []\n",
    "    for j in range(len(arr[i])):\n",
    "        kriteria22.append(arr[i][j][1])\n",
    "    kriteria2.append(kriteria22)\n",
    "    \n",
    "# Nilai Preferensi F3 (Kesehatan) \n",
    "kriteria3 = []\n",
    "for i in range(len(arr)):\n",
    "    kriteria33 = []\n",
    "    for j in range(len(arr[i])):\n",
    "        kriteria33.append(arr[i][j][2])\n",
    "    kriteria3.append(kriteria33)\n",
    "    \n",
    "# Nilai Preferensi F4 (Psikotes) \n",
    "kriteria4 = []\n",
    "for i in range(len(arr)):\n",
    "    kriteria44 = []\n",
    "    for j in range(len(arr[i])):\n",
    "        kriteria44.append(arr[i][j][3])\n",
    "    kriteria4.append(kriteria44)\n",
    "    \n",
    "# Nilai Preferensi F5 (Peta Dua) \n",
    "kriteria5 = []\n",
    "for i in range(len(arr)):\n",
    "    kriteria55 = []\n",
    "    for j in range(len(arr[i])):\n",
    "        kriteria55.append(arr[i][j][4])\n",
    "    kriteria5.append(kriteria55)"
   ]
  },
  {
   "cell_type": "code",
   "execution_count": 203,
   "metadata": {},
   "outputs": [
    {
     "data": {
      "text/html": [
       "<div>\n",
       "<style scoped>\n",
       "    .dataframe tbody tr th:only-of-type {\n",
       "        vertical-align: middle;\n",
       "    }\n",
       "\n",
       "    .dataframe tbody tr th {\n",
       "        vertical-align: top;\n",
       "    }\n",
       "\n",
       "    .dataframe thead th {\n",
       "        text-align: right;\n",
       "    }\n",
       "</style>\n",
       "<table border=\"1\" class=\"dataframe\">\n",
       "  <thead>\n",
       "    <tr style=\"text-align: right;\">\n",
       "      <th></th>\n",
       "      <th>0</th>\n",
       "      <th>1</th>\n",
       "    </tr>\n",
       "  </thead>\n",
       "  <tbody>\n",
       "    <tr>\n",
       "      <th>0</th>\n",
       "      <td>0</td>\n",
       "      <td>1</td>\n",
       "    </tr>\n",
       "    <tr>\n",
       "      <th>1</th>\n",
       "      <td>0</td>\n",
       "      <td>0</td>\n",
       "    </tr>\n",
       "  </tbody>\n",
       "</table>\n",
       "</div>"
      ],
      "text/plain": [
       "   0  1\n",
       "0  0  1\n",
       "1  0  0"
      ]
     },
     "execution_count": 203,
     "metadata": {},
     "output_type": "execute_result"
    }
   ],
   "source": [
    "# np_pko = pd.DataFrame(data=kriteria1, columns = ['A','B','C','D'], index = ['A', 'B', 'C', 'D'])\n",
    "# np_disiplin = pd.DataFrame(data=kriteria2, columns = ['A','B','C','D'], index = ['A', 'B', 'C', 'D'])\n",
    "# np_kesehatan = pd.DataFrame(data=kriteria3, columns = ['A','B','C','D'], index = ['A', 'B', 'C', 'D'])\n",
    "# np_psikotes = pd.DataFrame(data=kriteria4, columns = ['A','B','C','D'], index = ['A', 'B', 'C', 'D'])\n",
    "# np_petadua = pd.DataFrame(data=kriteria5, columns = ['A','B','C','D'], index = ['A', 'B', 'C', 'D'])\n",
    "pko = pd.DataFrame(data=kriteria1)\n"
   ]
  },
  {
   "cell_type": "code",
   "execution_count": 202,
   "metadata": {},
   "outputs": [
    {
     "ename": "NameError",
     "evalue": "name 'np_disiplin' is not defined",
     "output_type": "error",
     "traceback": [
      "\u001b[0;31m---------------------------------------------------------------------------\u001b[0m",
      "\u001b[0;31mNameError\u001b[0m                                 Traceback (most recent call last)",
      "\u001b[0;32m<ipython-input-202-44173b4513cc>\u001b[0m in \u001b[0;36m<module>\u001b[0;34m\u001b[0m\n\u001b[0;32m----> 1\u001b[0;31m \u001b[0mnp_disiplin\u001b[0m\u001b[0;34m\u001b[0m\u001b[0m\n\u001b[0m",
      "\u001b[0;31mNameError\u001b[0m: name 'np_disiplin' is not defined"
     ]
    }
   ],
   "source": [
    "np_disiplin"
   ]
  },
  {
   "cell_type": "code",
   "execution_count": null,
   "metadata": {},
   "outputs": [],
   "source": []
  },
  {
   "cell_type": "code",
   "execution_count": null,
   "metadata": {},
   "outputs": [],
   "source": []
  },
  {
   "cell_type": "code",
   "execution_count": null,
   "metadata": {},
   "outputs": [],
   "source": []
  },
  {
   "cell_type": "code",
   "execution_count": null,
   "metadata": {},
   "outputs": [],
   "source": []
  },
  {
   "cell_type": "code",
   "execution_count": null,
   "metadata": {},
   "outputs": [],
   "source": []
  }
 ],
 "metadata": {
  "kernelspec": {
   "display_name": "Python 3",
   "language": "python",
   "name": "python3"
  },
  "language_info": {
   "codemirror_mode": {
    "name": "ipython",
    "version": 3
   },
   "file_extension": ".py",
   "mimetype": "text/x-python",
   "name": "python",
   "nbconvert_exporter": "python",
   "pygments_lexer": "ipython3",
   "version": "3.6.6"
  }
 },
 "nbformat": 4,
 "nbformat_minor": 2
}
